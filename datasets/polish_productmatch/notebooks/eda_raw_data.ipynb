{
 "cells": [
  {
   "cell_type": "code",
   "execution_count": 1,
   "metadata": {
    "pycharm": {
     "name": "#%%\n"
    }
   },
   "outputs": [
    {
     "name": "stdout",
     "output_type": "stream",
     "text": [
      "Index(['Unnamed: 0', 'EAN', 'amount', 'brand', 'capacity', 'category',\n",
      "       'description', 'extras', 'image_url', 'ingredients', 'origin', 'price',\n",
      "       'seller', 'storage', 'title', 'url', 'weight'],\n",
      "      dtype='object')\n"
     ]
    }
   ],
   "source": [
    "import os\n",
    "import pandas as pd\n",
    "import json\n",
    "import re\n",
    "\n",
    "\n",
    "PL_WDC_RAW_DATA_PATH = os.path.join(\n",
    "    os.path.abspath(''),\n",
    "    '../data/raw_data.csv'\n",
    ")\n",
    "\n",
    "data = pd.read_csv(PL_WDC_RAW_DATA_PATH,\n",
    "                   sep=',',\n",
    "                   index_col=False)\n",
    "\n",
    "print(data.columns)"
   ]
  },
  {
   "cell_type": "code",
   "execution_count": 20,
   "metadata": {
    "pycharm": {
     "name": "#%%\n"
    }
   },
   "outputs": [
    {
     "name": "stdout",
     "output_type": "stream",
     "text": [
      "Index(['Unnamed: 0', 'EAN', 'amount', 'brand', 'capacity', 'category',\n",
      "       'description', 'extras', 'image_url', 'ingredients', 'origin', 'price',\n",
      "       'seller', 'storage', 'title', 'url', 'weight'],\n",
      "      dtype='object')\n",
      "['Napoje' 'Spożywcze' 'BIO' 'Strefa Roślinna' 'Mama i dziecko'\n",
      " 'Środki czystości, chemia' 'DROGERIA' 'WODA I NAPOJE' 'ZDROWA ŻYWNOŚĆ'\n",
      " 'nan' 'ARTYKUŁY PRZEMYSŁOWE' 'Alkohol' 'Chemia' 'Soki świeże i tłoczone'\n",
      " 'Artykuły spożywcze' 'Warzywniak' 'alkohol' 'napoje']\n"
     ]
    }
   ],
   "source": [
    "print(data.columns)\n",
    "\n",
    "def category_selector(category):\n",
    "    category = str(category)\n",
    "    if category:\n",
    "        category = category.split('>')[0].strip()\n",
    "    return category\n",
    "\n",
    "data['kind'] = data.apply(lambda x: category_selector(x['category']), axis=1)\n",
    "\n",
    "print(data['kind'].unique())\n",
    "\n",
    "napoje_df = data[data['kind'].isin(['Napoje',\n",
    "                               'WODA I NAPOJE',\n",
    "                               'Alkohol',\n",
    "                               'Soki świeże i tłoczone',\n",
    "                               'alkohol',\n",
    "                               'napoje'])]\n",
    "\n",
    "chemia_df = data[data['kind'].isin(['Środki czystości, chemia',\n",
    "                                    'Chemia',\n",
    "                                    ])]"
   ]
  },
  {
   "cell_type": "code",
   "execution_count": 21,
   "metadata": {
    "pycharm": {
     "name": "#%%\n"
    }
   },
   "outputs": [],
   "source": [
    "import spacy\n",
    "nlp = spacy.load('pl_core_news_md')"
   ]
  },
  {
   "cell_type": "code",
   "execution_count": 22,
   "metadata": {
    "pycharm": {
     "name": "#%%\n"
    }
   },
   "outputs": [
    {
     "name": "stdout",
     "output_type": "stream",
     "text": [
      "napój\n"
     ]
    }
   ],
   "source": [
    "doc = nlp(\"napoje gazowane owocowe smaczne\")\n",
    "print(doc[0].lemma_)"
   ]
  },
  {
   "cell_type": "code",
   "execution_count": 29,
   "metadata": {
    "pycharm": {
     "name": "#%%\n"
    }
   },
   "outputs": [
    {
     "name": "stdout",
     "output_type": "stream",
     "text": [
      "{'cytrynowy', 'jagodą', 'marchewkowe', 'egozotyczne', 'mandarynkowe', 'wiśniami', 'pomarańczą', 'ananasowy', 'egzotycznych', 'egzotyczne', 'bio', 'kokosowe', 'warzywne', 'owoców', 'brzoskwinami', 'migdałowe', 'lemoniada', 'pomidorowe', 'owocowe', 'sprite', 'limonką', 'bananowy', 'niegazowana', 'jabłkiem', 'wiśniowe', 'maliną', 'róży', 'brzoskwiniowe', 'stary', 'energetyki', 'jabłkami', 'pomarańczowe', 'czarnego', 'syropy', 'jagodami', 'malinowy', 'jabłkowe', 'malinowe', 'lemoniady,', 'alkohol', 'tea', 'dzieci', 'nektary', 'wino', 'brzoskwiniowy', 'anasem', 'sojowe', 'porzeczkowy', 'bananem', 'ryżowe', 'cola', 'cytrusowych', 'niegazowane', 'ananasowe', 'bzu', 'arbuzem', 'tłoczone', 'gazowana', 'cytrusowe', 'świat', 'aloesowe', 'gazowane', 'buraczkowe', 'soki,', 'napoje', 'izotoniki', 'soki', 'cytrynowe', 'oranżada', 'piwo', 'grejpfrutem', 'lecznicza', 'multiwitamina', 'lasu', 'wyciskane', 'ice', 'owsiane', 'tonic', 'nowy', 'cytryną', 'roślinne', 'truskawkowy', 'oranżady', 'dzikiej', 'leśnych', 'musujące', 'wieloowocowe', 'żurawinowy', 'owocowo-warzywne', 'limonki', 'pomarańczowy', 'miętą', 'bananowe', 'malinami', 'wielowarzywne', 'sadu', 'winogronem', 'mango', 'lekko', 'truskawką', 'żurawinowe', 'grejpfrutowy', 'wiśniowy', 'woda'}\n",
      "\n",
      "\n",
      "\n",
      "\n",
      "\n",
      "{'25', 'paneli', 'słomki', 'koloru', 'zmywaki', 'zapas', '81-90', 'gumowe', 'dziecięce', 'zmywania', 'kuchenne', '120', 'czyszczenie', 'kurzu', 'prysznicowych', 'udrażniacze', 'mycia', 'tłuszczu', 'urządzenie', 'dekorowane', 'toaletowe', '61-70', 'druciaki', 'żelu', '2,5', 'rtv', 'wybielacze', 'hipoalergiczne', 'samochodu', 'naczyń', 'duże', '1-3', 'pranie', 'pozostałe', 'okularów', 'zapachowe', 'ściereczki', 'uzupełnienie', 'szkła', 'sprzętu', 'owocowe', 'mopy', 'proszek', 'srebra', 'pianki', 'uniwersalny', '1,5-2,5', 'drewna', 'złota', 'dodatki', 'szczotki', '15-25', 'powietrza', 'domowe', '1,5', '31-40', 'wkład', 'gąbki', 'luster', 'odplamiacz', 'podłóg', 'sól', '20-30', 'ręczniki', 'toalet', 'zmywanie', 'mleczko', 'koncentrat', '1', 'segregacji', 'kamienia', 'rękawiczki', 'chemia', 'l', 'kolorowe', 'kg', 'kapsułki', 'średnie', 'automatyczne', 'szafy', 'nabłyszczacz', 'łazienki', 'szyb', 'komplet', 'odświeżacze', 'odpadów', 'pompką', 'środki', 'czystości,', '35', '90', 'tabletki', 'płyn', 'kabin', '2-4', 'płyny', 'stali,', 'proszku', 'kuchni', 'ziołowe', '41-50', '3', 'akcesoria', 'odplamiacze', '1-2', 'śmieci', 'aloesowe', '4', 'usuwania', 'chusteczki', 'pielęgnujące', 'prania', 'tabletek', 'odplamiające', 'kapsułek', 'zawieszki', 'lodówek', 'żel', 'żele', 'worki', '240', 'parkietu', 'zmywarki', 'litrów', 'pleśni', 'ratanowe', 'worków', '15', 'białe', 'czyszczenia', 'nitrylowe', 'mebli', 'proszki', '60', '160', 'małe', '2', '71-80', 'białego', 'uniwersalne', '51-60', '30', 'patyczki', 'płukania', 'płynie', 'dywanów', '30-40', 'mleczka', 'aerozolu', 'saszetki', 'sanitariatów', 'podłogi', '20', 'olejeki', '<', 'piorące', 'elektryczne'}\n"
     ]
    }
   ],
   "source": [
    "napoje_set = set()\n",
    "\n",
    "for idx, napoje_row in napoje_df.iterrows():\n",
    "    categories = napoje_row['category'].split('>')[:-1]\n",
    "    clean_categories = []\n",
    "    for category in categories:\n",
    "        sub_cats = category.lower().split()\n",
    "        for sub_cat in sub_cats:\n",
    "            if sub_cat not in nlp.Defaults.stop_words:\n",
    "                napoje_set.add(sub_cat)\n",
    "\n",
    "print(napoje_set)\n",
    "\n",
    "print('\\n\\n\\n\\n')\n",
    "\n",
    "chemia_set = set()\n",
    "\n",
    "for idx, chemia_row in chemia_df.iterrows():\n",
    "    categories = chemia_row['category'].split('>')[:-1]\n",
    "    clean_categories = []\n",
    "    for category in categories:\n",
    "        sub_cats = category.lower().split()\n",
    "        for sub_cat in sub_cats:\n",
    "            if sub_cat not in nlp.Defaults.stop_words:\n",
    "                chemia_set.add(sub_cat)\n",
    "\n",
    "print(chemia_set)\n",
    "            \n"
   ]
  },
  {
   "cell_type": "code",
   "execution_count": null,
   "metadata": {
    "pycharm": {
     "name": "#%%\n"
    }
   },
   "outputs": [],
   "source": []
  }
 ],
 "metadata": {
  "kernelspec": {
   "display_name": "Python 3 (ipykernel)",
   "language": "python",
   "name": "python3"
  },
  "language_info": {
   "codemirror_mode": {
    "name": "ipython",
    "version": 3
   },
   "file_extension": ".py",
   "mimetype": "text/x-python",
   "name": "python",
   "nbconvert_exporter": "python",
   "pygments_lexer": "ipython3",
   "version": "3.8.2"
  }
 },
 "nbformat": 4,
 "nbformat_minor": 1
}