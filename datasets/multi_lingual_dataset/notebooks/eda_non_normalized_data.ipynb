{
 "cells": [
  {
   "cell_type": "code",
   "execution_count": 3,
   "metadata": {
    "pycharm": {
     "name": "#%%\n"
    }
   },
   "outputs": [],
   "source": [
    "import os\n",
    "import pandas as pd\n",
    "import json\n",
    "import re\n",
    "\n",
    "DE_DATASET_NON_NORMALIZED_PATH_test = os.path.join(\n",
    "    os.path.abspath(''),\n",
    "    '../data/multi_class_test_set_toy.csv'\n",
    ")\n",
    "DE_DATASET_NON_NORMALIZED_PATH_train = os.path.join(\n",
    "    os.path.abspath(''),\n",
    "    '../data/multi_class_train_set_toy.csv'\n",
    ")\n",
    "\n",
    "products_train = pd.read_csv(DE_DATASET_NON_NORMALIZED_PATH_train, index_col=False)\n",
    "products_test = pd.read_csv(DE_DATASET_NON_NORMALIZED_PATH_test, index_col=False)\n",
    "\n",
    "products = pd.concat([products_train, products_test])"
   ]
  },
  {
   "cell_type": "code",
   "execution_count": 5,
   "metadata": {
    "pycharm": {
     "name": "#%%\n"
    }
   },
   "outputs": [
    {
     "name": "stdout",
     "output_type": "stream",
     "text": [
      "   offer_id category subcategory lang  \\\n",
      "0   1005473      toy        lego   en   \n",
      "1   1005491      toy        lego   en   \n",
      "2   1005490      toy        lego   en   \n",
      "3   1005483      toy        lego   en   \n",
      "4   1005502      toy        lego   en   \n",
      "5   1005477      toy        lego   en   \n",
      "6   1005466      toy        lego   en   \n",
      "7   1005499      toy        lego   en   \n",
      "8   1005504      toy        lego   en   \n",
      "9   1005464      toy        lego   en   \n",
      "\n",
      "                                               title  \\\n",
      "0  NEW LEGO NINJAGO FIRE FANG SET 70674 QUEEN ASP...   \n",
      "1        LEGO 70674 Ninjago Fire Fang Set NEW IN BOX   \n",
      "2     Lego Ninjago 70674 Fire Fang w/ 4 minifigs NEW   \n",
      "3                       Lego Ninjago Fire Fang 70674   \n",
      "4                   LEGO Ninjago Fire Fang Set 70674   \n",
      "5  Lego Ninjago set lot 70674 Fire Fang Snake set...   \n",
      "6                       LEGO 70674 NINJAGO Fire Fang   \n",
      "7        LEGO 70674 Ninjago Fire Fang Set New Sealed   \n",
      "8  LEGO 70674 Ninjago Fire Fang Snake Building To...   \n",
      "9   NEW LEGO Ninjago 70674 Fire Fang + FREE SHIPPING   \n",
      "\n",
      "                                         description            ean    mpn  \\\n",
      "0  Condition: New: A brand-new  unused  unopened ...            NaN    NaN   \n",
      "1  Condition: New: A brand-new  unused  unopened ...  0673419299039  70674   \n",
      "2  Condition: New: A brand-new  unused  unopened ...  0673419299039  70674   \n",
      "3  Children can role-play as ninja action figure ...            NaN  70674   \n",
      "4  Condition: New: A brand-new  unused  unopened ...  0673419299039  70674   \n",
      "5  Condition: New: A brand-new  unused  unopened ...            NaN    NaN   \n",
      "6  Condition: New: A brand-new  unused  unopened ...  5702016365511  70674   \n",
      "7  Condition: New: A brand-new  unused  unopened ...  0673419299039  70674   \n",
      "8  Condition: New: A brand-new  unused  unopened ...  0673419299039  70674   \n",
      "9  Condition: New: A brand-new  unused  unopened ...  0673419299039  70674   \n",
      "\n",
      "    label  \n",
      "0  100136  \n",
      "1  100136  \n",
      "2  100136  \n",
      "3  100136  \n",
      "4  100136  \n",
      "5  100136  \n",
      "6  100136  \n",
      "7  100136  \n",
      "8  100136  \n",
      "9  100136  \n",
      "offer_id                                                 1006113\n",
      "category                                                     toy\n",
      "subcategory                                                 lego\n",
      "lang                                                          en\n",
      "title          LEGO Creator 3-in-1 Pirate Ship 31109 - ON-HAN...\n",
      "description    Condition: New: A brand-new  unused  unopened ...\n",
      "ean                                                5702016616354\n",
      "mpn                                                          NaN\n",
      "label                                                     100142\n",
      "Name: 46, dtype: object \n",
      "\n",
      "\n",
      " 46    Condition: New: A brand-new  unused  unopened ...\n",
      "46    Condition: New: A brand-new  unused  unopened ...\n",
      "Name: description, dtype: object \n",
      "\n",
      "\n",
      " 46    LEGO Creator 3-in-1 Pirate Ship 31109 - ON-HAN...\n",
      "46    LEGO Star Wars Millennium Falcon Ultimate Coll...\n",
      "Name: title, dtype: object\n"
     ]
    }
   ],
   "source": [
    "print(products[:10])\n",
    "print(products.iloc[46], '\\n\\n\\n', products['description'][46], '\\n\\n\\n', products['title'][46])"
   ]
  },
  {
   "cell_type": "code",
   "execution_count": 16,
   "metadata": {
    "pycharm": {
     "name": "#%%\n"
    }
   },
   "outputs": [
    {
     "name": "stdout",
     "output_type": "stream",
     "text": [
      "{'condition': \"New: A brand-new  unused  unopened  undamaged item (including handmade items). See the seller's listing for full details. See all condition definitions- opens in a new window or tab ... Read moreabout the condition\", 'brand': 'LEGO', 'character': 'Millennium Falcon', 'theme': 'Star Wars', 'age_level': '16+', 'set_number': '75192', 'set_name': 'Millennium Falcon', 'mpn': '75192', 'character_family': 'Star Wars', 'upc': '673419267656'}\n"
     ]
    }
   ],
   "source": [
    "def full_data_extraction(description, keyvalues):\n",
    "    results = {}\n",
    "\n",
    "    positions = [[description.find(kv['translation']), idx] for idx, kv in enumerate(keyvalues)]\n",
    "    positions.sort(key=lambda x: x[0])\n",
    "    positions = [pos for pos in positions if pos[0] != -1]\n",
    "\n",
    "    n_pos = len(positions)\n",
    "    for idx in range(n_pos):\n",
    "        start = positions[idx][0]+len(keyvalues[positions[idx][1]]['translation'])\n",
    "        if idx < n_pos-1:\n",
    "            end = positions[idx+1][0]\n",
    "        else:\n",
    "            end = len(description)\n",
    "        results[keyvalues[positions[idx][1]]['label']] = description[start:end].strip()\n",
    "\n",
    "    return results\n",
    "\n",
    "\n",
    "keyvalues = [{\"label\": \"condition\", \"translation\": \"Condition:\"},\n",
    "             {\"label\": \"model\", \"translation\": \"Model Theme:\"},\n",
    "             {\"label\": \"age_level\", \"translation\": \"Age Level:\"},\n",
    "             {\"label\": \"piece_count\", \"translation\": \"Piece Count:\"},\n",
    "             {\"label\": \"theme\", \"translation\": \"Product Line (LEGO Theme):\"},\n",
    "             {\"label\": \"age_range\", \"translation\": \"Recommended Age Range:\"},\n",
    "             {\"label\": \"mpn\", \"translation\": \"MPN:\"},\n",
    "             {\"label\": \"packaging\", \"translation\": \"Packaging:\"},\n",
    "             {\"label\": \"modified\", \"translation\": \"Modified Item:\"},\n",
    "             {\"label\": \"material\", \"translation\": \"Material:\"},\n",
    "             {\"label\": \"type\", \"translation\": \"Type:\"},\n",
    "             {\"label\": \"brand\", \"translation\": \"Brand:\"},\n",
    "             {\"label\": \"year\", \"translation\": \"Year:\"},\n",
    "             {\"label\": \"set_number\", \"translation\": \"LEGO Set Number:\"},\n",
    "             {\"label\": \"set_name\", \"translation\": \"LEGO Set Name:\"},\n",
    "             {\"label\": \"features\", \"translation\": \"Features:\"},\n",
    "             {\"label\": \"character_family\", \"translation\": \"Character Family:\"},\n",
    "             {\"label\": \"theme\", \"translation\": \"LEGO Theme:\"},\n",
    "             {\"label\": \"character\", \"translation\": \"LEGO Character:\"},\n",
    "             {\"label\": \"upc\", \"translation\": \"UPC:\"}\n",
    "             ]\n",
    "ex_keyvalues = full_data_extraction(ex_description, keyvalues)\n",
    "\n",
    "print(ex_keyvalues)"
   ]
  },
  {
   "cell_type": "code",
   "execution_count": 4,
   "metadata": {
    "pycharm": {
     "name": "#%%\n"
    }
   },
   "outputs": [
    {
     "ename": "TypeError",
     "evalue": "string indices must be integers",
     "output_type": "error",
     "traceback": [
      "\u001B[0;31m---------------------------------------------------------------------------\u001B[0m",
      "\u001B[0;31mTypeError\u001B[0m                                 Traceback (most recent call last)",
      "Input \u001B[0;32mIn [4]\u001B[0m, in \u001B[0;36m<cell line: 9>\u001B[0;34m()\u001B[0m\n\u001B[1;32m      1\u001B[0m \u001B[38;5;66;03m# eans = set()\u001B[39;00m\n\u001B[1;32m      2\u001B[0m \u001B[38;5;66;03m# print(len(products))\u001B[39;00m\n\u001B[1;32m      3\u001B[0m \u001B[38;5;66;03m# for product in products:\u001B[39;00m\n\u001B[0;32m   (...)\u001B[0m\n\u001B[1;32m      6\u001B[0m \u001B[38;5;66;03m#\u001B[39;00m\n\u001B[1;32m      7\u001B[0m \u001B[38;5;66;03m# print(len(eans))\u001B[39;00m\n\u001B[0;32m----> 9\u001B[0m chemia_count \u001B[38;5;241m=\u001B[39m \u001B[38;5;28msum\u001B[39m([product[\u001B[38;5;124m'\u001B[39m\u001B[38;5;124mcategory\u001B[39m\u001B[38;5;124m'\u001B[39m] \u001B[38;5;241m==\u001B[39m \u001B[38;5;124m'\u001B[39m\u001B[38;5;124mchemia\u001B[39m\u001B[38;5;124m'\u001B[39m \u001B[38;5;28;01mfor\u001B[39;00m product \u001B[38;5;129;01min\u001B[39;00m products])\n\u001B[1;32m     10\u001B[0m \u001B[38;5;28mprint\u001B[39m(chemia_count)\n\u001B[1;32m     12\u001B[0m napoje_count \u001B[38;5;241m=\u001B[39m \u001B[38;5;28msum\u001B[39m([product[\u001B[38;5;124m'\u001B[39m\u001B[38;5;124mcategory\u001B[39m\u001B[38;5;124m'\u001B[39m] \u001B[38;5;241m==\u001B[39m \u001B[38;5;124m'\u001B[39m\u001B[38;5;124mnapoje\u001B[39m\u001B[38;5;124m'\u001B[39m \u001B[38;5;28;01mfor\u001B[39;00m product \u001B[38;5;129;01min\u001B[39;00m products])\n",
      "Input \u001B[0;32mIn [4]\u001B[0m, in \u001B[0;36m<listcomp>\u001B[0;34m(.0)\u001B[0m\n\u001B[1;32m      1\u001B[0m \u001B[38;5;66;03m# eans = set()\u001B[39;00m\n\u001B[1;32m      2\u001B[0m \u001B[38;5;66;03m# print(len(products))\u001B[39;00m\n\u001B[1;32m      3\u001B[0m \u001B[38;5;66;03m# for product in products:\u001B[39;00m\n\u001B[0;32m   (...)\u001B[0m\n\u001B[1;32m      6\u001B[0m \u001B[38;5;66;03m#\u001B[39;00m\n\u001B[1;32m      7\u001B[0m \u001B[38;5;66;03m# print(len(eans))\u001B[39;00m\n\u001B[0;32m----> 9\u001B[0m chemia_count \u001B[38;5;241m=\u001B[39m \u001B[38;5;28msum\u001B[39m([\u001B[43mproduct\u001B[49m\u001B[43m[\u001B[49m\u001B[38;5;124;43m'\u001B[39;49m\u001B[38;5;124;43mcategory\u001B[39;49m\u001B[38;5;124;43m'\u001B[39;49m\u001B[43m]\u001B[49m \u001B[38;5;241m==\u001B[39m \u001B[38;5;124m'\u001B[39m\u001B[38;5;124mchemia\u001B[39m\u001B[38;5;124m'\u001B[39m \u001B[38;5;28;01mfor\u001B[39;00m product \u001B[38;5;129;01min\u001B[39;00m products])\n\u001B[1;32m     10\u001B[0m \u001B[38;5;28mprint\u001B[39m(chemia_count)\n\u001B[1;32m     12\u001B[0m napoje_count \u001B[38;5;241m=\u001B[39m \u001B[38;5;28msum\u001B[39m([product[\u001B[38;5;124m'\u001B[39m\u001B[38;5;124mcategory\u001B[39m\u001B[38;5;124m'\u001B[39m] \u001B[38;5;241m==\u001B[39m \u001B[38;5;124m'\u001B[39m\u001B[38;5;124mnapoje\u001B[39m\u001B[38;5;124m'\u001B[39m \u001B[38;5;28;01mfor\u001B[39;00m product \u001B[38;5;129;01min\u001B[39;00m products])\n",
      "\u001B[0;31mTypeError\u001B[0m: string indices must be integers"
     ]
    }
   ],
   "source": [
    "# eans = set()\n",
    "# print(len(products))\n",
    "# for product in products:\n",
    "#     print(products['identifiers'][0]['EAN'])\n",
    "#     eans.add(product['identifiers'][0]['EAN'][0])\n",
    "#\n",
    "# print(len(eans))\n",
    "\n",
    "chemia_count = sum([product['category'] == 'chemia' for product in products])\n",
    "print(chemia_count)\n",
    "\n",
    "napoje_count = sum([product['category'] == 'napoje' for product in products])\n",
    "print(napoje_count)\n"
   ]
  },
  {
   "cell_type": "code",
   "execution_count": null,
   "metadata": {
    "pycharm": {
     "name": "#%%\n"
    }
   },
   "outputs": [],
   "source": [
    "def find_position(searched, search):\n",
    "    pos = searched.find(search)\n",
    "    if pos != -1:\n",
    "        pos = searched[:pos].count(' ')\n",
    "    return pos\n",
    "\n",
    "brand_in_title = sum([product['brand'].lower() in product['title'].lower() for product in products])\n",
    "print(brand_in_title)\n",
    "\n",
    "position_of_brand = {}\n",
    "for product in products:\n",
    "    if not product['brand'].strip():\n",
    "        continue\n",
    "    pos = find_position(product['title'].lower(), product['brand'].lower())\n",
    "    if pos == 17:\n",
    "        print(product['brand'])\n",
    "        print(product['title'])\n",
    "        print('####')\n",
    "    if pos not in position_of_brand:\n",
    "        position_of_brand[pos] = 1\n",
    "    else:\n",
    "        position_of_brand[pos] += 1\n",
    "\n",
    "print(position_of_brand)"
   ]
  },
  {
   "cell_type": "code",
   "execution_count": null,
   "metadata": {
    "pycharm": {
     "name": "#%%\n"
    }
   },
   "outputs": [],
   "source": [
    "import matplotlib.pyplot as plt\n",
    "\n",
    "counts = {}\n",
    "# print(products[0])\n",
    "for product in products:\n",
    "#     print(product['keyValuePairs']['extras'])\n",
    "    # if product['keyValuePairs']['origin'].strip() and product['keyValuePairs']['origin'].lower() in product['title'].lower():\n",
    "    #     print('abc')\n",
    "    count = product['title'].count(' ')+1\n",
    "    if count == 17:\n",
    "        print(product['title'])\n",
    "    counts[count] = counts.get(count, 0) + 1\n",
    "\n",
    "plt.bar(counts.keys(), counts.values(), color='g', tick_label=list(counts.keys()))\n",
    "plt.title(f'Distribution of title lengths')\n",
    "plt.xlabel('length')\n",
    "plt.ylabel('count')\n",
    "plt.savefig(f'pl_wdc_title_length_distribution.png')\n",
    "plt.show()\n"
   ]
  },
  {
   "cell_type": "code",
   "execution_count": null,
   "metadata": {
    "pycharm": {
     "name": "#%%\n"
    }
   },
   "outputs": [],
   "source": [
    "keywords_counts = {}\n",
    "for product in products:\n",
    "    for k, v in product['keyValuePairs'].items():\n",
    "        if v.strip():\n",
    "            if k in keywords_counts:\n",
    "                keywords_counts[k] += 1\n",
    "            else:\n",
    "                keywords_counts[k] = 1\n",
    "\n",
    "print(keywords_counts)\n",
    "\n",
    "\n",
    "def coverage_of_kv(products, kv):\n",
    "    pos_dict = {}\n",
    "    for i in range(19):\n",
    "        pos_dict[i] = 0\n",
    "    for product in products:\n",
    "        if kv in product['keyValuePairs'] and product['keyValuePairs'][kv].strip():\n",
    "            # print(product['keyValuePairs'][kv])\n",
    "            pos = find_position(product['title'].lower(), product['keyValuePairs'][kv].lower())\n",
    "            if pos != -1:\n",
    "                pos = product['title'].count(' ') - (pos+product['keyValuePairs'][kv].count(' '))\n",
    "#             if pos > 2:\n",
    "#                 print(pos, product['title'].count(' '), product['keyValuePairs'][kv].count(' '))\n",
    "#                 print(product['title'])\n",
    "            pos_dict[pos] = pos_dict.get(pos, 0) + 1\n",
    "            # if pos != -1:\n",
    "            #     pos_dict['full'] += 1\n",
    "    return pos_dict\n",
    "\n",
    "# kv_cov = coverage_of_kv(products, 'amount')\n",
    "# plt.bar(kv_cov.keys(), kv_cov.values(), color='g', tick_label=list(kv_cov.keys()))\n",
    "# plt.title('Distribution of found amount')\n",
    "# plt.xlabel('position')\n",
    "# plt.ylabel('count')\n",
    "\n",
    "\n",
    "for kv in ['amount', 'capacity', 'storage']:\n",
    "    kv_cov = coverage_of_kv(products, kv)\n",
    "    plt.bar(kv_cov.keys(), kv_cov.values(), color='g', tick_label=list(kv_cov.keys()))\n",
    "    print(f'full sum for {kv}: {sum([x for k,x in kv_cov.items() if k != -1])}')\n",
    "    plt.title(f'Distribution of found {kv}')\n",
    "    plt.xlabel('position')\n",
    "    plt.ylabel('count')\n",
    "    plt.savefig(f'pl_wdc_{kv}_distribution.png')\n",
    "    plt.show()"
   ]
  },
  {
   "cell_type": "code",
   "execution_count": null,
   "metadata": {
    "pycharm": {
     "name": "#%%\n"
    }
   },
   "outputs": [],
   "source": [
    "# for product in products:\n",
    "#     print(product['keyValuePairs']['amount'],\n",
    "#           '#',\n",
    "#           product['keyValuePairs']['capacity'])"
   ]
  },
  {
   "cell_type": "code",
   "execution_count": null,
   "metadata": {
    "pycharm": {
     "name": "#%%\n"
    }
   },
   "outputs": [],
   "source": [
    "c = 0\n",
    "ca = 0\n",
    "cc = 0\n",
    "for product in products:\n",
    "    amount = product['keyValuePairs']['amount'].strip().lower()\n",
    "    capacity = product['keyValuePairs']['capacity'].strip().lower()\n",
    "    if amount:\n",
    "        ca += 1\n",
    "    if capacity:\n",
    "        cc += 1\n",
    "    if amount and capacity and amount == capacity:\n",
    "        c += 1\n",
    "\n",
    "print(c)"
   ]
  },
  {
   "cell_type": "code",
   "execution_count": null,
   "metadata": {
    "pycharm": {
     "name": "#%%\n"
    }
   },
   "outputs": [],
   "source": [
    "def lengths_of_kv(products, kv):\n",
    "    lengths = {}\n",
    "    for product in products:\n",
    "        if kv in product['keyValuePairs'] and product['keyValuePairs'][kv].strip():\n",
    "            pos = find_position(product['title'], product['keyValuePairs'][kv])\n",
    "            kv_len = product['keyValuePairs'][kv].count(' ')+1\n",
    "            if pos != -1:\n",
    "                print(pos)\n",
    "                print(product['keyValuePairs'][kv])\n",
    "                print(product['title'])\n",
    "                print('###')\n",
    "                lengths[kv_len] = lengths.get(kv_len, 0) + 1\n",
    "    return lengths\n",
    "\n",
    "amounts_lengths = lengths_of_kv(products, 'amount')\n",
    "print(amounts_lengths)"
   ]
  },
  {
   "cell_type": "code",
   "execution_count": null,
   "metadata": {
    "pycharm": {
     "name": "#%%\n"
    }
   },
   "outputs": [],
   "source": [
    "amounts_set = set()\n",
    "for product in products:\n",
    "    amounts_set.add(product['keyValuePairs']['amount'].strip())\n",
    "\n",
    "print(amounts_set)"
   ]
  },
  {
   "cell_type": "code",
   "execution_count": null,
   "metadata": {
    "pycharm": {
     "name": "#%%\n"
    }
   },
   "outputs": [],
   "source": [
    "import re\n",
    "\n",
    "\n",
    "def find_units(title, data_tags, reg):\n",
    "    title = title\n",
    "    p = re.compile(reg)\n",
    "    for m in p.finditer(title):\n",
    "        b_pos = title[:m.span()[0]].count(' ')\n",
    "        i_pos_end = title[:m.span()[1]].count(' ')\n",
    "        print(b_pos, i_pos_end)\n",
    "        i_pos = list(range(b_pos+1, i_pos_end+1))\n",
    "        first_position = title[:m.start()].count(' ')\n",
    "        data_tags[b_pos] = 'B-ORG'\n",
    "        for pos in i_pos:\n",
    "            data_tags[pos] = 'I-ORG'\n",
    "        \n",
    "regex1 = r'([0-9]*[.,])?[0-9]+[ ]{0,}(g|mg|l|ml|kg|L|szt|szt\\.|sztuk|litrów|litrow|gram|gramów|miligramów|miligramow|miligram|kilogram|kilogramów|litres|kilograms|miligrams|grams)+'\n",
    "regex2 = r'\\d+[ ]{0,}x[ ]{0,}([0-9]*[.,])?[0-9]+[ ]{0,}(g|mg|l|ml|kg|L|szt|szt\\.|sztuk|litrów|litrow|gram|gramów|miligramów|miligramow|miligram|kilogram|kilogramów|litres|kilograms|miligrams|grams)+'\n",
    "\n",
    "matches = 0\n",
    "for amount in amounts_set:\n",
    "    if not(re.match(regex1, amount.lower()) or re.match(regex2, amount.lower())):\n",
    "        print(amount)\n",
    "    \n",
    "\n",
    "title = 'abc def brand 30 x 8 g'\n",
    "tags = ['O'] * (title.count(' ')+1)\n",
    "print(title, tags)\n",
    "\n",
    "find_units(title, tags, regex1)\n",
    "find_units(title, tags, regex2)\n",
    "print(title, tags)"
   ]
  },
  {
   "cell_type": "code",
   "execution_count": null,
   "metadata": {
    "pycharm": {
     "name": "#%%\n"
    }
   },
   "outputs": [],
   "source": [
    "def find_entity_by_match(product, element, tag_b, tag_i, data_tags):\n",
    "    data_sentence = str(product['title'])\n",
    "    brand = element\n",
    "    pos = data_sentence.find(brand)\n",
    "    n_brand = brand.count(' ') + 1\n",
    "    if pos > -1:\n",
    "        first_position = data_sentence[:pos].count(' ')\n",
    "        for i_brand in range(n_brand):\n",
    "            tag = tag_b\n",
    "            if i_brand > 0:\n",
    "                tag = tag_i\n",
    "            data_tags[first_position+i_brand] = tag\n"
   ]
  },
  {
   "cell_type": "code",
   "execution_count": null,
   "metadata": {
    "pycharm": {
     "name": "#%%\n"
    }
   },
   "outputs": [],
   "source": [
    "ner_data_sentences = []\n",
    "ner_data_tags = []\n",
    "\n",
    "ids = []\n",
    "for idx, product in enumerate(products):\n",
    "    title = product['title']\n",
    "    title_split = product['title'].split()\n",
    "\n",
    "    n_title = len(title_split)\n",
    "    product_ner_data_tags = ['O'] * n_title\n",
    "\n",
    "    find_entity_by_match(product, product['brand'], 'B-PER', 'I-PER', product_ner_data_tags)\n",
    "    \n",
    "    find_entity_by_match(product, product['keyValuePairs']['amount'], 'B-ORG', 'I-ORG', product_ner_data_tags)\n",
    "    \n",
    "    find_units(product['title'].lower(), )\n",
    "    \n",
    "\n",
    "    ner_data_sentences.append(title_split)\n",
    "    ner_data_tags.append(product_ner_data_tags)\n",
    "\n",
    "\n",
    "print(len(ner_data_tags))"
   ]
  },
  {
   "cell_type": "code",
   "execution_count": null,
   "metadata": {
    "pycharm": {
     "name": "#%%\n"
    }
   },
   "outputs": [],
   "source": [
    "output_count = len(ner_data_sentences)\n",
    "\n",
    "RESULTS_PATH = os.path.join(os.path.abspath(''), \"../ner_dataset_WDC\")\n",
    "\n",
    "parts = [\n",
    "    {\"label\": \"train\", \"start\": 0.0, \"end\": 0.8},\n",
    "    {\"label\": \"test\", \"start\": 0.8, \"end\": 1.0},\n",
    "    {\"label\": \"valid\", \"start\": 0.8, \"end\": 1.0}\n",
    "]\n",
    "\n",
    "for part in parts:\n",
    "    part_path = os.path.join(RESULTS_PATH, f\"{part['label']}.txt\")\n",
    "    start = int(output_count * part['start'])\n",
    "    end = int(output_count * part['end'])\n",
    "\n",
    "    result_file = open(part_path, 'w+')\n",
    "\n",
    "    for idx in range(start, end):\n",
    "        data_sentence = ner_data_sentences[idx]\n",
    "        data_tags = ner_data_tags[idx]\n",
    "        for token, tag in zip(data_sentence, data_tags):\n",
    "            result_file.write(f'{token}\\t{tag}\\n')\n",
    "        result_file.write('\\n')\n",
    "    result_file.close()\n"
   ]
  },
  {
   "cell_type": "code",
   "execution_count": null,
   "metadata": {
    "pycharm": {
     "name": "#%%\n"
    }
   },
   "outputs": [],
   "source": []
  }
 ],
 "metadata": {
  "kernelspec": {
   "display_name": "Python 3 (ipykernel)",
   "language": "python",
   "name": "python3"
  },
  "language_info": {
   "codemirror_mode": {
    "name": "ipython",
    "version": 3
   },
   "file_extension": ".py",
   "mimetype": "text/x-python",
   "name": "python",
   "nbconvert_exporter": "python",
   "pygments_lexer": "ipython3",
   "version": "3.8.2"
  }
 },
 "nbformat": 4,
 "nbformat_minor": 1
}