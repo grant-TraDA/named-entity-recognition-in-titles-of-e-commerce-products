{
 "cells": [
  {
   "cell_type": "code",
   "execution_count": null,
   "outputs": [],
   "source": [
    "!git clone https://github.com/mukhal/xlm-roberta-ner.git"
   ],
   "metadata": {
    "collapsed": false,
    "pycharm": {
     "name": "#%%\n"
    }
   }
  },
  {
   "cell_type": "code",
   "source": [
    "!unzip ner_set.zip"
   ],
   "metadata": {
    "colab": {
     "base_uri": "https://localhost:8080/"
    },
    "id": "TfX35M_veWqW",
    "outputId": "62c2100a-f12f-4b66-92a9-e3a801184294",
    "pycharm": {
     "name": "#%%\n",
     "is_executing": true
    }
   },
   "execution_count": null,
   "outputs": []
  },
  {
   "cell_type": "code",
   "execution_count": null,
   "metadata": {
    "colab": {
     "base_uri": "https://localhost:8080/"
    },
    "id": "0p53n2yZsO_t",
    "outputId": "228e654e-53e6-414f-eff3-025e83165e20",
    "pycharm": {
     "name": "#%%\n",
     "is_executing": true
    }
   },
   "outputs": [],
   "source": [
    "%cd xlm-roberta-ner/"
   ]
  },
  {
   "cell_type": "code",
   "execution_count": null,
   "metadata": {
    "colab": {
     "base_uri": "https://localhost:8080/"
    },
    "id": "IRpNnZXPp-tI",
    "outputId": "9db68c4a-b198-4c9f-e4f2-9075daf5b69c",
    "pycharm": {
     "name": "#%%\n",
     "is_executing": true
    }
   },
   "outputs": [],
   "source": [
    "%cd xlm-roberta-ner/\n",
    "!mkdir pretrained_models\n",
    "!wget -P pretrained_models https://dl.fbaipublicfiles.com/fairseq/models/xlmr.base.tar.gz\n",
    "!tar xzvf pretrained_models/xlmr.base.tar.gz  --directory pretrained_models/\n",
    "!rm -r pretrained_models/xlmr.base.tar.gz"
   ]
  },
  {
   "cell_type": "code",
   "execution_count": null,
   "metadata": {
    "colab": {
     "base_uri": "https://localhost:8080/"
    },
    "id": "TYrawxc-r3Ds",
    "outputId": "48742fa0-6a9e-4902-b0dd-76a6fe71db9d",
    "pycharm": {
     "name": "#%%\n",
     "is_executing": true
    }
   },
   "outputs": [],
   "source": [
    "!pip install -r requirements.txt"
   ]
  },
  {
   "cell_type": "code",
   "execution_count": null,
   "metadata": {
    "colab": {
     "base_uri": "https://localhost:8080/"
    },
    "id": "ve8wCvHPrpCF",
    "outputId": "c72bab98-7215-4ed2-a39c-0ec93101678b",
    "pycharm": {
     "name": "#%%\n",
     "is_executing": true
    }
   },
   "outputs": [],
   "source": [
    "!python main.py \\\n",
    "      --data_dir=ner_set/phones/de  \\\n",
    "      --task_name=ner   \\\n",
    "      --output_dir=model_dir/   \\\n",
    "      --max_seq_length=32   \\\n",
    "      --num_train_epochs 10  \\\n",
    "      --do_eval \\\n",
    "      --warmup_proportion=0.1 \\\n",
    "      --pretrained_path pretrained_models/xlmr.base/ \\\n",
    "      --learning_rate 0.00007 \\\n",
    "      --do_train \\\n",
    "      --eval_on test \\\n",
    "      --train_batch_size 4 \\\n",
    "      --dropout 0.2"
   ]
  },
  {
   "cell_type": "code",
   "source": [
    "!python main.py \\\n",
    "      --data_dir=ner_set/phones/en  \\\n",
    "      --task_name=ner   \\\n",
    "      --output_dir=model_dir/   \\\n",
    "      --max_seq_length=32   \\\n",
    "      --num_train_epochs 10  \\\n",
    "      --do_eval \\\n",
    "      --warmup_proportion=0.1 \\\n",
    "      --pretrained_path pretrained_models/xlmr.base/ \\\n",
    "      --learning_rate 0.00007 \\\n",
    "      --do_train \\\n",
    "      --eval_on test \\\n",
    "      --train_batch_size 4 \\\n",
    "      --dropout 0.2"
   ],
   "metadata": {
    "colab": {
     "base_uri": "https://localhost:8080/"
    },
    "id": "2pvmIAKpoekv",
    "outputId": "a2a3c42f-a013-4454-897b-12e09aac7b4f",
    "pycharm": {
     "name": "#%%\n",
     "is_executing": true
    }
   },
   "execution_count": null,
   "outputs": []
  },
  {
   "cell_type": "code",
   "source": [
    "!python main.py \\\n",
    "      --data_dir=ner_set/phones/es  \\\n",
    "      --task_name=ner   \\\n",
    "      --output_dir=model_dir/   \\\n",
    "      --max_seq_length=32   \\\n",
    "      --num_train_epochs 10  \\\n",
    "      --do_eval \\\n",
    "      --warmup_proportion=0.1 \\\n",
    "      --pretrained_path pretrained_models/xlmr.base/ \\\n",
    "      --learning_rate 0.00007 \\\n",
    "      --do_train \\\n",
    "      --eval_on test \\\n",
    "      --train_batch_size 4 \\\n",
    "      --dropout 0.2"
   ],
   "metadata": {
    "colab": {
     "base_uri": "https://localhost:8080/"
    },
    "id": "iktpM9f3tYeE",
    "outputId": "14767e3f-7bbc-4f85-da1b-5f76b266add6",
    "pycharm": {
     "name": "#%%\n",
     "is_executing": true
    }
   },
   "execution_count": null,
   "outputs": []
  },
  {
   "cell_type": "code",
   "source": [
    "!python main.py \\\n",
    "      --data_dir=ner_set/phones/fr  \\\n",
    "      --task_name=ner   \\\n",
    "      --output_dir=model_dir/   \\\n",
    "      --max_seq_length=32   \\\n",
    "      --num_train_epochs 10  \\\n",
    "      --do_eval \\\n",
    "      --warmup_proportion=0.1 \\\n",
    "      --pretrained_path pretrained_models/xlmr.base/ \\\n",
    "      --learning_rate 0.000007 \\\n",
    "      --do_train \\\n",
    "      --eval_on test \\\n",
    "      --train_batch_size 4 \\\n",
    "      --dropout 0.2"
   ],
   "metadata": {
    "colab": {
     "base_uri": "https://localhost:8080/"
    },
    "id": "yTbAgq29vFKk",
    "outputId": "fd594dc4-4013-41b8-88e7-16784ac0ef0c",
    "pycharm": {
     "name": "#%%\n",
     "is_executing": true
    }
   },
   "execution_count": null,
   "outputs": []
  },
  {
   "cell_type": "code",
   "source": [
    "!python main.py \\\n",
    "      --data_dir=ner_set/toys/en  \\\n",
    "      --task_name=ner   \\\n",
    "      --output_dir=model_dir/   \\\n",
    "      --max_seq_length=32   \\\n",
    "      --num_train_epochs 10  \\\n",
    "      --do_eval \\\n",
    "      --warmup_proportion=0.1 \\\n",
    "      --pretrained_path pretrained_models/xlmr.base/ \\\n",
    "      --learning_rate 0.000007 \\\n",
    "      --do_train \\\n",
    "      --eval_on test \\\n",
    "      --train_batch_size 4 \\\n",
    "      --dropout 0.2"
   ],
   "metadata": {
    "colab": {
     "base_uri": "https://localhost:8080/"
    },
    "id": "b4-Au0D9zfGc",
    "outputId": "070f62ad-fada-48b5-a43f-4e57b818d1cc",
    "pycharm": {
     "name": "#%%\n",
     "is_executing": true
    }
   },
   "execution_count": null,
   "outputs": []
  },
  {
   "cell_type": "code",
   "source": [
    "!python main.py \\\n",
    "      --data_dir=ner_set/toys/de  \\\n",
    "      --task_name=ner   \\\n",
    "      --output_dir=model_dir/   \\\n",
    "      --max_seq_length=32   \\\n",
    "      --num_train_epochs 10  \\\n",
    "      --do_eval \\\n",
    "      --warmup_proportion=0.1 \\\n",
    "      --pretrained_path pretrained_models/xlmr.base/ \\\n",
    "      --learning_rate 0.000007 \\\n",
    "      --do_train \\\n",
    "      --eval_on test \\\n",
    "      --train_batch_size 4 \\\n",
    "      --dropout 0.2"
   ],
   "metadata": {
    "colab": {
     "base_uri": "https://localhost:8080/"
    },
    "id": "YDnj73fA-otk",
    "outputId": "f6dd7565-3477-4d21-f9c9-c49f183d1d5a",
    "pycharm": {
     "name": "#%%\n",
     "is_executing": true
    }
   },
   "execution_count": null,
   "outputs": []
  },
  {
   "cell_type": "code",
   "source": [
    "!python main.py \\\n",
    "      --data_dir=ner_set/toys/es  \\\n",
    "      --task_name=ner   \\\n",
    "      --output_dir=model_dir/   \\\n",
    "      --max_seq_length=32   \\\n",
    "      --num_train_epochs 10  \\\n",
    "      --do_eval \\\n",
    "      --warmup_proportion=0.1 \\\n",
    "      --pretrained_path pretrained_models/xlmr.base/ \\\n",
    "      --learning_rate 0.000007 \\\n",
    "      --do_train \\\n",
    "      --eval_on test \\\n",
    "      --train_batch_size 4 \\\n",
    "      --dropout 0.2"
   ],
   "metadata": {
    "colab": {
     "base_uri": "https://localhost:8080/"
    },
    "id": "XRbh0ZF5Cciw",
    "outputId": "3fa9ba9f-81c7-4c8a-d2bc-bf91003c2f36",
    "pycharm": {
     "name": "#%%\n",
     "is_executing": true
    }
   },
   "execution_count": null,
   "outputs": []
  },
  {
   "cell_type": "code",
   "source": [
    "!python main.py \\\n",
    "      --data_dir=ner_set/toys/fr  \\\n",
    "      --task_name=ner   \\\n",
    "      --output_dir=model_dir/   \\\n",
    "      --max_seq_length=32   \\\n",
    "      --num_train_epochs 10  \\\n",
    "      --do_eval \\\n",
    "      --warmup_proportion=0.1 \\\n",
    "      --pretrained_path pretrained_models/xlmr.base/ \\\n",
    "      --learning_rate 0.000007 \\\n",
    "      --do_train \\\n",
    "      --eval_on test \\\n",
    "      --train_batch_size 4 \\\n",
    "      --dropout 0.2"
   ],
   "metadata": {
    "colab": {
     "base_uri": "https://localhost:8080/"
    },
    "id": "nP4swyTqEUw6",
    "outputId": "8c88990e-1e16-4b5d-dcba-d1d344dde933",
    "pycharm": {
     "name": "#%%\n",
     "is_executing": true
    }
   },
   "execution_count": null,
   "outputs": []
  },
  {
   "cell_type": "code",
   "source": [
    "!python main.py \\\n",
    "      --data_dir=ner_set/wdc  \\\n",
    "      --task_name=ner   \\\n",
    "      --output_dir=model_dir/   \\\n",
    "      --max_seq_length=32   \\\n",
    "      --num_train_epochs 10  \\\n",
    "      --do_eval \\\n",
    "      --warmup_proportion=0.1 \\\n",
    "      --pretrained_path pretrained_models/xlmr.base/ \\\n",
    "      --learning_rate 0.000007 \\\n",
    "      --do_train \\\n",
    "      --eval_on test \\\n",
    "      --train_batch_size 4 \\\n",
    "      --dropout 0.2"
   ],
   "metadata": {
    "colab": {
     "base_uri": "https://localhost:8080/"
    },
    "id": "jntF_vY8PEJ0",
    "outputId": "32e0bb97-77fb-4966-ec1e-fb88765a1ac6",
    "pycharm": {
     "name": "#%%\n",
     "is_executing": true
    }
   },
   "execution_count": null,
   "outputs": []
  },
  {
   "cell_type": "code",
   "source": [
    "!python main.py \\\n",
    "      --data_dir=ner_set/pl/exact  \\\n",
    "      --task_name=ner   \\\n",
    "      --output_dir=model_dir/   \\\n",
    "      --max_seq_length=32   \\\n",
    "      --num_train_epochs 10  \\\n",
    "      --do_eval \\\n",
    "      --warmup_proportion=0.1 \\\n",
    "      --pretrained_path pretrained_models/xlmr.base/ \\\n",
    "      --learning_rate 0.000007 \\\n",
    "      --do_train \\\n",
    "      --eval_on test \\\n",
    "      --train_batch_size 4 \\\n",
    "      --dropout 0.2"
   ],
   "metadata": {
    "colab": {
     "base_uri": "https://localhost:8080/"
    },
    "id": "WYmmvHL0TLjt",
    "outputId": "4eb75d5c-010c-4994-8528-7a286f9d1dbf",
    "pycharm": {
     "name": "#%%\n",
     "is_executing": true
    }
   },
   "execution_count": null,
   "outputs": []
  },
  {
   "cell_type": "code",
   "source": [
    "!python main.py \\\n",
    "      --data_dir=ner_set/pl/regex  \\\n",
    "      --task_name=ner   \\\n",
    "      --output_dir=model_dir/   \\\n",
    "      --max_seq_length=32   \\\n",
    "      --num_train_epochs 10  \\\n",
    "      --do_eval \\\n",
    "      --warmup_proportion=0.1 \\\n",
    "      --pretrained_path pretrained_models/xlmr.base/ \\\n",
    "      --learning_rate 0.000007 \\\n",
    "      --do_train \\\n",
    "      --eval_on test \\\n",
    "      --train_batch_size 4 \\\n",
    "      --dropout 0.2"
   ],
   "metadata": {
    "colab": {
     "base_uri": "https://localhost:8080/"
    },
    "id": "JUzBqrWOUnbv",
    "outputId": "5f0a2b64-3f0f-4b2f-8286-5be2da5c26f7",
    "pycharm": {
     "name": "#%%\n",
     "is_executing": true
    }
   },
   "execution_count": null,
   "outputs": []
  },
  {
   "cell_type": "code",
   "source": [
    "!python main.py \\\n",
    "      --data_dir=ner_set/toys/all  \\\n",
    "      --task_name=ner   \\\n",
    "      --output_dir=model_dir/   \\\n",
    "      --max_seq_length=32   \\\n",
    "      --num_train_epochs 10  \\\n",
    "      --do_eval \\\n",
    "      --warmup_proportion=0.1 \\\n",
    "      --pretrained_path pretrained_models/xlmr.base/ \\\n",
    "      --learning_rate 0.000007 \\\n",
    "      --do_train \\\n",
    "      --eval_on test \\\n",
    "      --train_batch_size 4 \\\n",
    "      --dropout 0.2"
   ],
   "metadata": {
    "colab": {
     "base_uri": "https://localhost:8080/"
    },
    "id": "b4N25C9Oab_y",
    "outputId": "a9576730-a371-41a3-d443-a4baca044a0a",
    "pycharm": {
     "name": "#%%\n",
     "is_executing": true
    }
   },
   "execution_count": null,
   "outputs": []
  },
  {
   "cell_type": "code",
   "source": [
    "!python main.py \\\n",
    "      --data_dir=ner_set/phones/all  \\\n",
    "      --task_name=ner   \\\n",
    "      --output_dir=model_dir/   \\\n",
    "      --max_seq_length=32   \\\n",
    "      --num_train_epochs 10  \\\n",
    "      --do_eval \\\n",
    "      --warmup_proportion=0.1 \\\n",
    "      --pretrained_path pretrained_models/xlmr.base/ \\\n",
    "      --learning_rate 0.000007 \\\n",
    "      --do_train \\\n",
    "      --eval_on test \\\n",
    "      --train_batch_size 4 \\\n",
    "      --dropout 0.2"
   ],
   "metadata": {
    "colab": {
     "base_uri": "https://localhost:8080/"
    },
    "id": "qqZEcIKLohad",
    "outputId": "6a0ce611-4915-4330-e8d4-fee9de454cc1",
    "pycharm": {
     "name": "#%%\n",
     "is_executing": true
    }
   },
   "execution_count": null,
   "outputs": []
  }
 ],
 "metadata": {
  "accelerator": "GPU",
  "colab": {
   "collapsed_sections": [],
   "provenance": []
  },
  "kernelspec": {
   "display_name": "Python 3",
   "name": "python3"
  },
  "language_info": {
   "name": "python"
  }
 },
 "nbformat": 4,
 "nbformat_minor": 0
}